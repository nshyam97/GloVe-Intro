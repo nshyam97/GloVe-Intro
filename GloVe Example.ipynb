{
 "cells": [
  {
   "cell_type": "markdown",
   "metadata": {},
   "source": [
    "# GloVe Example\n",
    "\n",
    "The following notebook is using [this](https://medium.com/analytics-vidhya/basics-of-using-pre-trained-glove-vectors-in-python-d38905f356db) tutorial as a start into the world of GloVe."
   ]
  },
  {
   "cell_type": "code",
   "execution_count": 78,
   "metadata": {},
   "outputs": [
    {
     "data": {
      "text/html": [
       "        <script type=\"text/javascript\">\n",
       "        window.PlotlyConfig = {MathJaxConfig: 'local'};\n",
       "        if (window.MathJax) {MathJax.Hub.Config({SVG: {font: \"STIX-Web\"}});}\n",
       "        if (typeof require !== 'undefined') {\n",
       "        require.undef(\"plotly\");\n",
       "        requirejs.config({\n",
       "            paths: {\n",
       "                'plotly': ['https://cdn.plot.ly/plotly-latest.min']\n",
       "            }\n",
       "        });\n",
       "        require(['plotly'], function(Plotly) {\n",
       "            window._Plotly = Plotly;\n",
       "        });\n",
       "        }\n",
       "        </script>\n",
       "        "
      ]
     },
     "metadata": {},
     "output_type": "display_data"
    }
   ],
   "source": [
    "# Import packages\n",
    "import numpy as np\n",
    "import pandas\n",
    "from scipy import spatial\n",
    "from sklearn.manifold import TSNE\n",
    "import plotly.graph_objects as go\n",
    "import plotly.offline as pyo\n",
    "pyo.init_notebook_mode(connected=True)"
   ]
  },
  {
   "cell_type": "markdown",
   "metadata": {},
   "source": [
    "I am using a pretrained vector provided by the GloVe team and is available on their [website](https://nlp.stanford.edu/projects/glove/). These text files are nicely formatted as they contain single a single word followed by *N* numbers. The *N* numbers that follow this word represent a point in *N* dimensional space. Numbers which are close to each other are close synonyms. The higher the dimension, the better the accuracy but more computation is needed. I will be using an *N* of 50 for this project to mimic the tutorial that this is from."
   ]
  },
  {
   "cell_type": "code",
   "execution_count": 2,
   "metadata": {},
   "outputs": [],
   "source": [
    "# First I will create an embeddings dictionary for word embedding. \n",
    "# Word embedding involves mapping words or phrases to vectors or numbers\n",
    "embeddings_dict = {}\n",
    "# Open the file with 50 dimensions\n",
    "with open('glove/glove.6B.50d.txt', 'r') as f:\n",
    "    # For every line, which is every word in this file\n",
    "    for line in f:\n",
    "        # Split the line up using default separator which is whitespace\n",
    "        values = line.split()\n",
    "        # The first item in the line is the word so assign that\n",
    "        word = values[0]\n",
    "        # Every other value in the line is a vector position\n",
    "        vector = np.asarray(values[1:], \"float32\")\n",
    "        # Now map the word to the vectors that we have got\n",
    "        embeddings_dict[word] = vector"
   ]
  },
  {
   "cell_type": "markdown",
   "metadata": {},
   "source": [
    "The above code takes all the words we have an stores them with their respective vector positions using the embeddings_dict dictionary. We can now use this dictionary to do some cool things with it.\n",
    "\n",
    "Below is a function that will take in a word and find other words that are similar to it using the vector positioning I talked about earlier. What this function does is take the word that was inputted and uses the dictionary keys, which are the words we embedded above, and find the distance between all these words and the word inputted. Instead of returning an alphabetically sorted list, we use the distance we calculated as the sorting key so that we get the most similar words."
   ]
  },
  {
   "cell_type": "code",
   "execution_count": 3,
   "metadata": {},
   "outputs": [],
   "source": [
    "def find_closest_embeddings(embedding):\n",
    "    return sorted(embeddings_dict.keys(), key=lambda word: \n",
    "                  spatial.distance.euclidean(embeddings_dict[word], embedding))[1:6]"
   ]
  },
  {
   "cell_type": "code",
   "execution_count": 4,
   "metadata": {},
   "outputs": [
    {
     "data": {
      "text/plain": [
       "['shoes', 'handbag', 'underwear', 'sneakers', 'leather']"
      ]
     },
     "execution_count": 4,
     "metadata": {},
     "output_type": "execute_result"
    }
   ],
   "source": [
    "find_closest_embeddings(embeddings_dict['shoe'])"
   ]
  },
  {
   "cell_type": "markdown",
   "metadata": {},
   "source": [
    "So as an example, I used 'shoe' as the word to test and outputted the top 5 most similar words in our dictionary. As you can see the first word, which is supposedly the most similar is 'shoes'. Makes sense! The other 4 words are all items of clothing which shows that these pretrained GloVe vectors do not just go on the words that are the most similar but also the meaning that is most similar. An interesting thing to note is that 'sneakers', a type of shoe, is 4th in the list behind handbag and underwear.\n",
    "\n",
    "What we can do is adapt the above function to show us the euclidean distances between the top 5 words and the word we want. We can use these distances to see how 'far' apart the words are from 'shoe'."
   ]
  },
  {
   "cell_type": "code",
   "execution_count": 5,
   "metadata": {},
   "outputs": [],
   "source": [
    "def find_distance_of_embeddings(embedding):\n",
    "    words = find_closest_embeddings(embedding)\n",
    "    distances = list(map(lambda word: spatial.distance.euclidean(embeddings_dict[word], embedding), words))\n",
    "    return dict(zip(words, distances))"
   ]
  },
  {
   "cell_type": "code",
   "execution_count": 6,
   "metadata": {},
   "outputs": [
    {
     "data": {
      "text/plain": [
       "{'shoes': 2.918541431427002,\n",
       " 'handbag': 3.0618388652801514,\n",
       " 'underwear': 3.096071481704712,\n",
       " 'sneakers': 3.323274850845337,\n",
       " 'leather': 3.34987211227417}"
      ]
     },
     "execution_count": 6,
     "metadata": {},
     "output_type": "execute_result"
    }
   ],
   "source": [
    "find_distance_of_embeddings(embeddings_dict['shoe'])"
   ]
  },
  {
   "cell_type": "markdown",
   "metadata": {},
   "source": [
    "We can see the distances between the other words that are closest to the word 'shoe'. An important thing to note is that GloVe uses a co-occurence matrix which calculates how often other words co-occur together. In this example, shoe and shoes commonly occur together in bodies of text.\n",
    "\n",
    "We can see this using a number of different words below."
   ]
  },
  {
   "cell_type": "code",
   "execution_count": 14,
   "metadata": {},
   "outputs": [
    {
     "data": {
      "text/plain": [
       "{'hot': 3.627650260925293,\n",
       " 'plate': 3.771793842315674,\n",
       " 'dust': 3.7886362075805664,\n",
       " 'snow': 3.79959774017334,\n",
       " 'melting': 3.9464774131774902}"
      ]
     },
     "execution_count": 14,
     "metadata": {},
     "output_type": "execute_result"
    }
   ],
   "source": [
    "find_distance_of_embeddings(embeddings_dict['ice'])"
   ]
  },
  {
   "cell_type": "code",
   "execution_count": 10,
   "metadata": {},
   "outputs": [
    {
     "data": {
      "text/plain": [
       "{'horses': 2.7341508865356445,\n",
       " 'dog': 3.245368480682373,\n",
       " 'bull': 3.3311214447021484,\n",
       " 'riding': 3.397752523422241,\n",
       " 'cat': 3.7490692138671875}"
      ]
     },
     "execution_count": 10,
     "metadata": {},
     "output_type": "execute_result"
    }
   ],
   "source": [
    "find_distance_of_embeddings(embeddings_dict['horse'])"
   ]
  },
  {
   "cell_type": "code",
   "execution_count": 12,
   "metadata": {},
   "outputs": [
    {
     "data": {
      "text/plain": [
       "{'asda': 2.3777077198028564,\n",
       " 'sainsbury': 2.838521957397461,\n",
       " 'woolworths': 3.094175338745117,\n",
       " 'morrisons': 3.1852293014526367,\n",
       " 'waitrose': 3.4131877422332764}"
      ]
     },
     "execution_count": 12,
     "metadata": {},
     "output_type": "execute_result"
    }
   ],
   "source": [
    "find_distance_of_embeddings(embeddings_dict['tesco'])"
   ]
  },
  {
   "cell_type": "code",
   "execution_count": 15,
   "metadata": {},
   "outputs": [
    {
     "data": {
      "text/plain": [
       "{'viruses': 3.052818775177002,\n",
       " 'flu': 3.061753034591675,\n",
       " 'h5n1': 3.106165647506714,\n",
       " 'influenza': 3.1839656829833984,\n",
       " 'infected': 3.265507221221924}"
      ]
     },
     "execution_count": 15,
     "metadata": {},
     "output_type": "execute_result"
    }
   ],
   "source": [
    "find_distance_of_embeddings(embeddings_dict['virus'])"
   ]
  },
  {
   "cell_type": "markdown",
   "metadata": {},
   "source": [
    "Important thing to note with these *Global Vectors* is that we can combine them like mathematical equations. For example I could do something like puppy - dog + cat and we can see what comes closest to this equation."
   ]
  },
  {
   "cell_type": "code",
   "execution_count": 48,
   "metadata": {},
   "outputs": [
    {
     "data": {
      "text/plain": [
       "{'kitten': 3.0314016342163086,\n",
       " 'puppies': 3.083557367324829,\n",
       " 'cat': 3.1496877670288086,\n",
       " 'pug': 3.2214677333831787,\n",
       " 'frisky': 3.229954957962036}"
      ]
     },
     "execution_count": 48,
     "metadata": {},
     "output_type": "execute_result"
    }
   ],
   "source": [
    "find_distance_of_embeddings(embeddings_dict['puppy'] - embeddings_dict['dog'] + embeddings_dict['cat'])"
   ]
  },
  {
   "cell_type": "markdown",
   "metadata": {},
   "source": [
    "As you can see, the closest matching result is a kitten which makes sense from the equation I created. Logically this makes sense.\n",
    "\n",
    "We can also visualise our word embeddings using t-SNE or t-distributed stochastic neighbour embedding. We installed this package at the start so we can use that now. It essentially allows us to reduce the 50 dimensions we have down to 2 dimensions so that we can plot them on a graph. "
   ]
  },
  {
   "cell_type": "code",
   "execution_count": 56,
   "metadata": {},
   "outputs": [],
   "source": [
    "tsne = TSNE(n_components=2, random_state=0)"
   ]
  },
  {
   "cell_type": "markdown",
   "metadata": {},
   "source": [
    "Now we need to convert our words and vector positions into lists so that TSNE can fit these to a 2 dimensional axis"
   ]
  },
  {
   "cell_type": "code",
   "execution_count": 57,
   "metadata": {},
   "outputs": [],
   "source": [
    "words = list(embeddings_dict.keys())\n",
    "vectors = [embeddings_dict[word] for word in words]"
   ]
  },
  {
   "cell_type": "markdown",
   "metadata": {},
   "source": [
    "Now we fit our TSNE to our lists. I will be using just first 100 to make it easier to view on the plot. The larger the slice of data you take, the longer it will take to process."
   ]
  },
  {
   "cell_type": "code",
   "execution_count": 81,
   "metadata": {},
   "outputs": [],
   "source": [
    "Y = tsne.fit_transform(vectors[:100])\n",
    "labels = words[:100]"
   ]
  },
  {
   "cell_type": "code",
   "execution_count": 82,
   "metadata": {},
   "outputs": [],
   "source": [
    "plot_df = pandas.DataFrame({'labels': labels, 'x': Y[:, 0], 'y': Y[:, 1]})"
   ]
  },
  {
   "cell_type": "code",
   "execution_count": 84,
   "metadata": {},
   "outputs": [
    {
     "data": {
      "application/vnd.plotly.v1+json": {
       "config": {
        "plotlyServerURL": "https://plot.ly"
       },
       "data": [
        {
         "mode": "markers",
         "text": [
          "the",
          ",",
          ".",
          "of",
          "to",
          "and",
          "in",
          "a",
          "\"",
          "'s",
          "for",
          "-",
          "that",
          "on",
          "is",
          "was",
          "said",
          "with",
          "he",
          "as",
          "it",
          "by",
          "at",
          "(",
          ")",
          "from",
          "his",
          "''",
          "``",
          "an",
          "be",
          "has",
          "are",
          "have",
          "but",
          "were",
          "not",
          "this",
          "who",
          "they",
          "had",
          "i",
          "which",
          "will",
          "their",
          ":",
          "or",
          "its",
          "one",
          "after",
          "new",
          "been",
          "also",
          "we",
          "would",
          "two",
          "more",
          "'",
          "first",
          "about",
          "up",
          "when",
          "year",
          "there",
          "all",
          "--",
          "out",
          "she",
          "other",
          "people",
          "n't",
          "her",
          "percent",
          "than",
          "over",
          "into",
          "last",
          "some",
          "government",
          "time",
          "$",
          "you",
          "years",
          "if",
          "no",
          "world",
          "can",
          "three",
          "do",
          ";",
          "president",
          "only",
          "state",
          "million",
          "could",
          "us",
          "most",
          "_",
          "against",
          "u.s."
         ],
         "type": "scatter",
         "x": [
          -0.5462892651557922,
          -1.3553234338760376,
          -1.738491415977478,
          -0.5803594589233398,
          -3.53904128074646,
          -1.2078746557235718,
          0.2285303771495819,
          -2.478696346282959,
          -5.04972505569458,
          -2.072108507156372,
          -2.073758602142334,
          -4.567344665527344,
          -4.2876877784729,
          0.3190469741821289,
          -3.3036069869995117,
          -0.282541960477829,
          -8.966920852661133,
          -0.8246051669120789,
          0.16693295538425446,
          -1.8923925161361694,
          -3.544287919998169,
          -0.9986881613731384,
          0.9967831969261169,
          -1.1537913084030151,
          -1.1654306650161743,
          0.5465345978736877,
          0.04890083894133568,
          -6.370584011077881,
          -6.336698055267334,
          -2.525383949279785,
          -4.9561944007873535,
          -2.0285120010375977,
          -5.8655476570129395,
          -5.270704746246338,
          -3.7898740768432617,
          -3.2779059410095215,
          -5.2708659172058105,
          -3.3133914470672607,
          1.0103901624679565,
          -5.323400974273682,
          -0.45190393924713135,
          -7.572522163391113,
          -1.0146026611328125,
          -6.361678600311279,
          -5.054533958435059,
          -2.138181209564209,
          -7.084701061248779,
          -1.2288191318511963,
          -2.5274922847747803,
          0.8199204802513123,
          -1.8111425638198853,
          -1.341023325920105,
          -1.6387535333633423,
          -6.915134429931641,
          -5.864198684692383,
          3.9371328353881836,
          -4.81273078918457,
          -4.925260543823242,
          0.31836411356925964,
          -4.145755767822266,
          1.6222549676895142,
          0.3430909812450409,
          2.7126877307891846,
          -4.033042907714844,
          -4.322203636169434,
          -4.7368974685668945,
          1.630660891532898,
          0.08910708874464035,
          -5.831046104431152,
          -6.124456882476807,
          -7.283536434173584,
          0.0830002948641777,
          3.5472300052642822,
          -4.648263454437256,
          1.7266777753829956,
          2.013538122177124,
          2.5132269859313965,
          -5.2497029304504395,
          -0.07331851869821548,
          0.009444871917366982,
          3.6815686225891113,
          -7.7325758934021,
          2.248230457305908,
          -6.0626606941223145,
          -5.090293884277344,
          2.979119062423706,
          -7.300412178039551,
          3.9511423110961914,
          -7.466623306274414,
          -1.6936709880828857,
          0.9651378393173218,
          -3.0989420413970947,
          -0.05787957087159157,
          3.6717448234558105,
          -5.834471225738525,
          -3.2481276988983154,
          -4.689463138580322,
          -3.103910207748413,
          2.4794459342956543,
          -3.224625825881958
         ],
         "y": [
          3.2355380058288574,
          2.487924337387085,
          2.475518226623535,
          3.75158953666687,
          2.179126024246216,
          2.2612314224243164,
          3.3974239826202393,
          -1.205554723739624,
          -1.9650750160217285,
          0.09049733728170395,
          3.0181846618652344,
          8.516867637634277,
          0.9857847690582275,
          2.5335235595703125,
          -0.21779564023017883,
          -0.715608537197113,
          1.7684237957000732,
          2.127033233642578,
          -1.5696357488632202,
          1.8238250017166138,
          0.8999005556106567,
          1.0570522546768188,
          3.845041513442993,
          8.095209121704102,
          8.098737716674805,
          2.9426255226135254,
          -2.0595266819000244,
          -1.9224820137023926,
          -1.9138591289520264,
          -1.1647000312805176,
          1.2573977708816528,
          0.7744476199150085,
          4.130756378173828,
          3.6604185104370117,
          1.3818707466125488,
          4.350111961364746,
          0.9248625040054321,
          0.8773068189620972,
          -1.5999329090118408,
          2.4551656246185303,
          -0.21330229938030243,
          -1.1533446311950684,
          3.421266794204712,
          1.5759618282318115,
          2.829293966293335,
          6.850506782531738,
          3.193779468536377,
          4.339146614074707,
          2.265197992324829,
          0.17883849143981934,
          4.101547718048096,
          0.14410988986492157,
          1.7048760652542114,
          -0.2324645072221756,
          1.288008451461792,
          1.671574592590332,
          5.136509895324707,
          8.375515937805176,
          1.6677464246749878,
          5.763800144195557,
          1.3620688915252686,
          -0.11478154361248016,
          3.9868221282958984,
          3.414165735244751,
          3.156310796737671,
          8.434408187866211,
          1.001270055770874,
          -3.0535168647766113,
          4.1992621421813965,
          5.54718017578125,
          -0.5294497013092041,
          -3.094395875930786,
          4.794043064117432,
          5.353337287902832,
          2.2429215908050537,
          0.6997272968292236,
          3.264693021774292,
          4.590493679046631,
          5.871452808380127,
          0.9930844306945801,
          6.122960567474365,
          -0.8530964255332947,
          4.043442726135254,
          0.4628474712371826,
          0.09431461244821548,
          -0.7696400284767151,
          1.2990700006484985,
          1.6892317533493042,
          -0.09846030920743942,
          7.071207523345947,
          6.562626838684082,
          2.5896668434143066,
          5.056596279144287,
          6.063964366912842,
          1.2380280494689941,
          -3.951221227645874,
          4.550192356109619,
          5.771085262298584,
          2.209378719329834,
          -3.963473081588745
         ]
        }
       ],
       "layout": {
        "template": {
         "data": {
          "bar": [
           {
            "error_x": {
             "color": "#2a3f5f"
            },
            "error_y": {
             "color": "#2a3f5f"
            },
            "marker": {
             "line": {
              "color": "#E5ECF6",
              "width": 0.5
             }
            },
            "type": "bar"
           }
          ],
          "barpolar": [
           {
            "marker": {
             "line": {
              "color": "#E5ECF6",
              "width": 0.5
             }
            },
            "type": "barpolar"
           }
          ],
          "carpet": [
           {
            "aaxis": {
             "endlinecolor": "#2a3f5f",
             "gridcolor": "white",
             "linecolor": "white",
             "minorgridcolor": "white",
             "startlinecolor": "#2a3f5f"
            },
            "baxis": {
             "endlinecolor": "#2a3f5f",
             "gridcolor": "white",
             "linecolor": "white",
             "minorgridcolor": "white",
             "startlinecolor": "#2a3f5f"
            },
            "type": "carpet"
           }
          ],
          "choropleth": [
           {
            "colorbar": {
             "outlinewidth": 0,
             "ticks": ""
            },
            "type": "choropleth"
           }
          ],
          "contour": [
           {
            "colorbar": {
             "outlinewidth": 0,
             "ticks": ""
            },
            "colorscale": [
             [
              0,
              "#0d0887"
             ],
             [
              0.1111111111111111,
              "#46039f"
             ],
             [
              0.2222222222222222,
              "#7201a8"
             ],
             [
              0.3333333333333333,
              "#9c179e"
             ],
             [
              0.4444444444444444,
              "#bd3786"
             ],
             [
              0.5555555555555556,
              "#d8576b"
             ],
             [
              0.6666666666666666,
              "#ed7953"
             ],
             [
              0.7777777777777778,
              "#fb9f3a"
             ],
             [
              0.8888888888888888,
              "#fdca26"
             ],
             [
              1,
              "#f0f921"
             ]
            ],
            "type": "contour"
           }
          ],
          "contourcarpet": [
           {
            "colorbar": {
             "outlinewidth": 0,
             "ticks": ""
            },
            "type": "contourcarpet"
           }
          ],
          "heatmap": [
           {
            "colorbar": {
             "outlinewidth": 0,
             "ticks": ""
            },
            "colorscale": [
             [
              0,
              "#0d0887"
             ],
             [
              0.1111111111111111,
              "#46039f"
             ],
             [
              0.2222222222222222,
              "#7201a8"
             ],
             [
              0.3333333333333333,
              "#9c179e"
             ],
             [
              0.4444444444444444,
              "#bd3786"
             ],
             [
              0.5555555555555556,
              "#d8576b"
             ],
             [
              0.6666666666666666,
              "#ed7953"
             ],
             [
              0.7777777777777778,
              "#fb9f3a"
             ],
             [
              0.8888888888888888,
              "#fdca26"
             ],
             [
              1,
              "#f0f921"
             ]
            ],
            "type": "heatmap"
           }
          ],
          "heatmapgl": [
           {
            "colorbar": {
             "outlinewidth": 0,
             "ticks": ""
            },
            "colorscale": [
             [
              0,
              "#0d0887"
             ],
             [
              0.1111111111111111,
              "#46039f"
             ],
             [
              0.2222222222222222,
              "#7201a8"
             ],
             [
              0.3333333333333333,
              "#9c179e"
             ],
             [
              0.4444444444444444,
              "#bd3786"
             ],
             [
              0.5555555555555556,
              "#d8576b"
             ],
             [
              0.6666666666666666,
              "#ed7953"
             ],
             [
              0.7777777777777778,
              "#fb9f3a"
             ],
             [
              0.8888888888888888,
              "#fdca26"
             ],
             [
              1,
              "#f0f921"
             ]
            ],
            "type": "heatmapgl"
           }
          ],
          "histogram": [
           {
            "marker": {
             "colorbar": {
              "outlinewidth": 0,
              "ticks": ""
             }
            },
            "type": "histogram"
           }
          ],
          "histogram2d": [
           {
            "colorbar": {
             "outlinewidth": 0,
             "ticks": ""
            },
            "colorscale": [
             [
              0,
              "#0d0887"
             ],
             [
              0.1111111111111111,
              "#46039f"
             ],
             [
              0.2222222222222222,
              "#7201a8"
             ],
             [
              0.3333333333333333,
              "#9c179e"
             ],
             [
              0.4444444444444444,
              "#bd3786"
             ],
             [
              0.5555555555555556,
              "#d8576b"
             ],
             [
              0.6666666666666666,
              "#ed7953"
             ],
             [
              0.7777777777777778,
              "#fb9f3a"
             ],
             [
              0.8888888888888888,
              "#fdca26"
             ],
             [
              1,
              "#f0f921"
             ]
            ],
            "type": "histogram2d"
           }
          ],
          "histogram2dcontour": [
           {
            "colorbar": {
             "outlinewidth": 0,
             "ticks": ""
            },
            "colorscale": [
             [
              0,
              "#0d0887"
             ],
             [
              0.1111111111111111,
              "#46039f"
             ],
             [
              0.2222222222222222,
              "#7201a8"
             ],
             [
              0.3333333333333333,
              "#9c179e"
             ],
             [
              0.4444444444444444,
              "#bd3786"
             ],
             [
              0.5555555555555556,
              "#d8576b"
             ],
             [
              0.6666666666666666,
              "#ed7953"
             ],
             [
              0.7777777777777778,
              "#fb9f3a"
             ],
             [
              0.8888888888888888,
              "#fdca26"
             ],
             [
              1,
              "#f0f921"
             ]
            ],
            "type": "histogram2dcontour"
           }
          ],
          "mesh3d": [
           {
            "colorbar": {
             "outlinewidth": 0,
             "ticks": ""
            },
            "type": "mesh3d"
           }
          ],
          "parcoords": [
           {
            "line": {
             "colorbar": {
              "outlinewidth": 0,
              "ticks": ""
             }
            },
            "type": "parcoords"
           }
          ],
          "pie": [
           {
            "automargin": true,
            "type": "pie"
           }
          ],
          "scatter": [
           {
            "marker": {
             "colorbar": {
              "outlinewidth": 0,
              "ticks": ""
             }
            },
            "type": "scatter"
           }
          ],
          "scatter3d": [
           {
            "line": {
             "colorbar": {
              "outlinewidth": 0,
              "ticks": ""
             }
            },
            "marker": {
             "colorbar": {
              "outlinewidth": 0,
              "ticks": ""
             }
            },
            "type": "scatter3d"
           }
          ],
          "scattercarpet": [
           {
            "marker": {
             "colorbar": {
              "outlinewidth": 0,
              "ticks": ""
             }
            },
            "type": "scattercarpet"
           }
          ],
          "scattergeo": [
           {
            "marker": {
             "colorbar": {
              "outlinewidth": 0,
              "ticks": ""
             }
            },
            "type": "scattergeo"
           }
          ],
          "scattergl": [
           {
            "marker": {
             "colorbar": {
              "outlinewidth": 0,
              "ticks": ""
             }
            },
            "type": "scattergl"
           }
          ],
          "scattermapbox": [
           {
            "marker": {
             "colorbar": {
              "outlinewidth": 0,
              "ticks": ""
             }
            },
            "type": "scattermapbox"
           }
          ],
          "scatterpolar": [
           {
            "marker": {
             "colorbar": {
              "outlinewidth": 0,
              "ticks": ""
             }
            },
            "type": "scatterpolar"
           }
          ],
          "scatterpolargl": [
           {
            "marker": {
             "colorbar": {
              "outlinewidth": 0,
              "ticks": ""
             }
            },
            "type": "scatterpolargl"
           }
          ],
          "scatterternary": [
           {
            "marker": {
             "colorbar": {
              "outlinewidth": 0,
              "ticks": ""
             }
            },
            "type": "scatterternary"
           }
          ],
          "surface": [
           {
            "colorbar": {
             "outlinewidth": 0,
             "ticks": ""
            },
            "colorscale": [
             [
              0,
              "#0d0887"
             ],
             [
              0.1111111111111111,
              "#46039f"
             ],
             [
              0.2222222222222222,
              "#7201a8"
             ],
             [
              0.3333333333333333,
              "#9c179e"
             ],
             [
              0.4444444444444444,
              "#bd3786"
             ],
             [
              0.5555555555555556,
              "#d8576b"
             ],
             [
              0.6666666666666666,
              "#ed7953"
             ],
             [
              0.7777777777777778,
              "#fb9f3a"
             ],
             [
              0.8888888888888888,
              "#fdca26"
             ],
             [
              1,
              "#f0f921"
             ]
            ],
            "type": "surface"
           }
          ],
          "table": [
           {
            "cells": {
             "fill": {
              "color": "#EBF0F8"
             },
             "line": {
              "color": "white"
             }
            },
            "header": {
             "fill": {
              "color": "#C8D4E3"
             },
             "line": {
              "color": "white"
             }
            },
            "type": "table"
           }
          ]
         },
         "layout": {
          "annotationdefaults": {
           "arrowcolor": "#2a3f5f",
           "arrowhead": 0,
           "arrowwidth": 1
          },
          "coloraxis": {
           "colorbar": {
            "outlinewidth": 0,
            "ticks": ""
           }
          },
          "colorscale": {
           "diverging": [
            [
             0,
             "#8e0152"
            ],
            [
             0.1,
             "#c51b7d"
            ],
            [
             0.2,
             "#de77ae"
            ],
            [
             0.3,
             "#f1b6da"
            ],
            [
             0.4,
             "#fde0ef"
            ],
            [
             0.5,
             "#f7f7f7"
            ],
            [
             0.6,
             "#e6f5d0"
            ],
            [
             0.7,
             "#b8e186"
            ],
            [
             0.8,
             "#7fbc41"
            ],
            [
             0.9,
             "#4d9221"
            ],
            [
             1,
             "#276419"
            ]
           ],
           "sequential": [
            [
             0,
             "#0d0887"
            ],
            [
             0.1111111111111111,
             "#46039f"
            ],
            [
             0.2222222222222222,
             "#7201a8"
            ],
            [
             0.3333333333333333,
             "#9c179e"
            ],
            [
             0.4444444444444444,
             "#bd3786"
            ],
            [
             0.5555555555555556,
             "#d8576b"
            ],
            [
             0.6666666666666666,
             "#ed7953"
            ],
            [
             0.7777777777777778,
             "#fb9f3a"
            ],
            [
             0.8888888888888888,
             "#fdca26"
            ],
            [
             1,
             "#f0f921"
            ]
           ],
           "sequentialminus": [
            [
             0,
             "#0d0887"
            ],
            [
             0.1111111111111111,
             "#46039f"
            ],
            [
             0.2222222222222222,
             "#7201a8"
            ],
            [
             0.3333333333333333,
             "#9c179e"
            ],
            [
             0.4444444444444444,
             "#bd3786"
            ],
            [
             0.5555555555555556,
             "#d8576b"
            ],
            [
             0.6666666666666666,
             "#ed7953"
            ],
            [
             0.7777777777777778,
             "#fb9f3a"
            ],
            [
             0.8888888888888888,
             "#fdca26"
            ],
            [
             1,
             "#f0f921"
            ]
           ]
          },
          "colorway": [
           "#636efa",
           "#EF553B",
           "#00cc96",
           "#ab63fa",
           "#FFA15A",
           "#19d3f3",
           "#FF6692",
           "#B6E880",
           "#FF97FF",
           "#FECB52"
          ],
          "font": {
           "color": "#2a3f5f"
          },
          "geo": {
           "bgcolor": "white",
           "lakecolor": "white",
           "landcolor": "#E5ECF6",
           "showlakes": true,
           "showland": true,
           "subunitcolor": "white"
          },
          "hoverlabel": {
           "align": "left"
          },
          "hovermode": "closest",
          "mapbox": {
           "style": "light"
          },
          "paper_bgcolor": "white",
          "plot_bgcolor": "#E5ECF6",
          "polar": {
           "angularaxis": {
            "gridcolor": "white",
            "linecolor": "white",
            "ticks": ""
           },
           "bgcolor": "#E5ECF6",
           "radialaxis": {
            "gridcolor": "white",
            "linecolor": "white",
            "ticks": ""
           }
          },
          "scene": {
           "xaxis": {
            "backgroundcolor": "#E5ECF6",
            "gridcolor": "white",
            "gridwidth": 2,
            "linecolor": "white",
            "showbackground": true,
            "ticks": "",
            "zerolinecolor": "white"
           },
           "yaxis": {
            "backgroundcolor": "#E5ECF6",
            "gridcolor": "white",
            "gridwidth": 2,
            "linecolor": "white",
            "showbackground": true,
            "ticks": "",
            "zerolinecolor": "white"
           },
           "zaxis": {
            "backgroundcolor": "#E5ECF6",
            "gridcolor": "white",
            "gridwidth": 2,
            "linecolor": "white",
            "showbackground": true,
            "ticks": "",
            "zerolinecolor": "white"
           }
          },
          "shapedefaults": {
           "line": {
            "color": "#2a3f5f"
           }
          },
          "ternary": {
           "aaxis": {
            "gridcolor": "white",
            "linecolor": "white",
            "ticks": ""
           },
           "baxis": {
            "gridcolor": "white",
            "linecolor": "white",
            "ticks": ""
           },
           "bgcolor": "#E5ECF6",
           "caxis": {
            "gridcolor": "white",
            "linecolor": "white",
            "ticks": ""
           }
          },
          "title": {
           "x": 0.05
          },
          "xaxis": {
           "automargin": true,
           "gridcolor": "white",
           "linecolor": "white",
           "ticks": "",
           "title": {
            "standoff": 15
           },
           "zerolinecolor": "white",
           "zerolinewidth": 2
          },
          "yaxis": {
           "automargin": true,
           "gridcolor": "white",
           "linecolor": "white",
           "ticks": "",
           "title": {
            "standoff": 15
           },
           "zerolinecolor": "white",
           "zerolinewidth": 2
          }
         }
        }
       }
      },
      "text/html": [
       "<div>\n",
       "        \n",
       "        \n",
       "            <div id=\"557b9a98-3a17-4a47-bbaa-ae8b5e315c6a\" class=\"plotly-graph-div\" style=\"height:525px; width:100%;\"></div>\n",
       "            <script type=\"text/javascript\">\n",
       "                require([\"plotly\"], function(Plotly) {\n",
       "                    window.PLOTLYENV=window.PLOTLYENV || {};\n",
       "                    \n",
       "                if (document.getElementById(\"557b9a98-3a17-4a47-bbaa-ae8b5e315c6a\")) {\n",
       "                    Plotly.newPlot(\n",
       "                        '557b9a98-3a17-4a47-bbaa-ae8b5e315c6a',\n",
       "                        [{\"mode\": \"markers\", \"text\": [\"the\", \",\", \".\", \"of\", \"to\", \"and\", \"in\", \"a\", \"\\\"\", \"'s\", \"for\", \"-\", \"that\", \"on\", \"is\", \"was\", \"said\", \"with\", \"he\", \"as\", \"it\", \"by\", \"at\", \"(\", \")\", \"from\", \"his\", \"''\", \"``\", \"an\", \"be\", \"has\", \"are\", \"have\", \"but\", \"were\", \"not\", \"this\", \"who\", \"they\", \"had\", \"i\", \"which\", \"will\", \"their\", \":\", \"or\", \"its\", \"one\", \"after\", \"new\", \"been\", \"also\", \"we\", \"would\", \"two\", \"more\", \"'\", \"first\", \"about\", \"up\", \"when\", \"year\", \"there\", \"all\", \"--\", \"out\", \"she\", \"other\", \"people\", \"n't\", \"her\", \"percent\", \"than\", \"over\", \"into\", \"last\", \"some\", \"government\", \"time\", \"$\", \"you\", \"years\", \"if\", \"no\", \"world\", \"can\", \"three\", \"do\", \";\", \"president\", \"only\", \"state\", \"million\", \"could\", \"us\", \"most\", \"_\", \"against\", \"u.s.\"], \"type\": \"scatter\", \"x\": [-0.5462892651557922, -1.3553234338760376, -1.738491415977478, -0.5803594589233398, -3.53904128074646, -1.2078746557235718, 0.2285303771495819, -2.478696346282959, -5.04972505569458, -2.072108507156372, -2.073758602142334, -4.567344665527344, -4.2876877784729, 0.3190469741821289, -3.3036069869995117, -0.282541960477829, -8.966920852661133, -0.8246051669120789, 0.16693295538425446, -1.8923925161361694, -3.544287919998169, -0.9986881613731384, 0.9967831969261169, -1.1537913084030151, -1.1654306650161743, 0.5465345978736877, 0.04890083894133568, -6.370584011077881, -6.336698055267334, -2.525383949279785, -4.9561944007873535, -2.0285120010375977, -5.8655476570129395, -5.270704746246338, -3.7898740768432617, -3.2779059410095215, -5.2708659172058105, -3.3133914470672607, 1.0103901624679565, -5.323400974273682, -0.45190393924713135, -7.572522163391113, -1.0146026611328125, -6.361678600311279, -5.054533958435059, -2.138181209564209, -7.084701061248779, -1.2288191318511963, -2.5274922847747803, 0.8199204802513123, -1.8111425638198853, -1.341023325920105, -1.6387535333633423, -6.915134429931641, -5.864198684692383, 3.9371328353881836, -4.81273078918457, -4.925260543823242, 0.31836411356925964, -4.145755767822266, 1.6222549676895142, 0.3430909812450409, 2.7126877307891846, -4.033042907714844, -4.322203636169434, -4.7368974685668945, 1.630660891532898, 0.08910708874464035, -5.831046104431152, -6.124456882476807, -7.283536434173584, 0.0830002948641777, 3.5472300052642822, -4.648263454437256, 1.7266777753829956, 2.013538122177124, 2.5132269859313965, -5.2497029304504395, -0.07331851869821548, 0.009444871917366982, 3.6815686225891113, -7.7325758934021, 2.248230457305908, -6.0626606941223145, -5.090293884277344, 2.979119062423706, -7.300412178039551, 3.9511423110961914, -7.466623306274414, -1.6936709880828857, 0.9651378393173218, -3.0989420413970947, -0.05787957087159157, 3.6717448234558105, -5.834471225738525, -3.2481276988983154, -4.689463138580322, -3.103910207748413, 2.4794459342956543, -3.224625825881958], \"y\": [3.2355380058288574, 2.487924337387085, 2.475518226623535, 3.75158953666687, 2.179126024246216, 2.2612314224243164, 3.3974239826202393, -1.205554723739624, -1.9650750160217285, 0.09049733728170395, 3.0181846618652344, 8.516867637634277, 0.9857847690582275, 2.5335235595703125, -0.21779564023017883, -0.715608537197113, 1.7684237957000732, 2.127033233642578, -1.5696357488632202, 1.8238250017166138, 0.8999005556106567, 1.0570522546768188, 3.845041513442993, 8.095209121704102, 8.098737716674805, 2.9426255226135254, -2.0595266819000244, -1.9224820137023926, -1.9138591289520264, -1.1647000312805176, 1.2573977708816528, 0.7744476199150085, 4.130756378173828, 3.6604185104370117, 1.3818707466125488, 4.350111961364746, 0.9248625040054321, 0.8773068189620972, -1.5999329090118408, 2.4551656246185303, -0.21330229938030243, -1.1533446311950684, 3.421266794204712, 1.5759618282318115, 2.829293966293335, 6.850506782531738, 3.193779468536377, 4.339146614074707, 2.265197992324829, 0.17883849143981934, 4.101547718048096, 0.14410988986492157, 1.7048760652542114, -0.2324645072221756, 1.288008451461792, 1.671574592590332, 5.136509895324707, 8.375515937805176, 1.6677464246749878, 5.763800144195557, 1.3620688915252686, -0.11478154361248016, 3.9868221282958984, 3.414165735244751, 3.156310796737671, 8.434408187866211, 1.001270055770874, -3.0535168647766113, 4.1992621421813965, 5.54718017578125, -0.5294497013092041, -3.094395875930786, 4.794043064117432, 5.353337287902832, 2.2429215908050537, 0.6997272968292236, 3.264693021774292, 4.590493679046631, 5.871452808380127, 0.9930844306945801, 6.122960567474365, -0.8530964255332947, 4.043442726135254, 0.4628474712371826, 0.09431461244821548, -0.7696400284767151, 1.2990700006484985, 1.6892317533493042, -0.09846030920743942, 7.071207523345947, 6.562626838684082, 2.5896668434143066, 5.056596279144287, 6.063964366912842, 1.2380280494689941, -3.951221227645874, 4.550192356109619, 5.771085262298584, 2.209378719329834, -3.963473081588745]}],\n",
       "                        {\"template\": {\"data\": {\"bar\": [{\"error_x\": {\"color\": \"#2a3f5f\"}, \"error_y\": {\"color\": \"#2a3f5f\"}, \"marker\": {\"line\": {\"color\": \"#E5ECF6\", \"width\": 0.5}}, \"type\": \"bar\"}], \"barpolar\": [{\"marker\": {\"line\": {\"color\": \"#E5ECF6\", \"width\": 0.5}}, \"type\": \"barpolar\"}], \"carpet\": [{\"aaxis\": {\"endlinecolor\": \"#2a3f5f\", \"gridcolor\": \"white\", \"linecolor\": \"white\", \"minorgridcolor\": \"white\", \"startlinecolor\": \"#2a3f5f\"}, \"baxis\": {\"endlinecolor\": \"#2a3f5f\", \"gridcolor\": \"white\", \"linecolor\": \"white\", \"minorgridcolor\": \"white\", \"startlinecolor\": \"#2a3f5f\"}, \"type\": \"carpet\"}], \"choropleth\": [{\"colorbar\": {\"outlinewidth\": 0, \"ticks\": \"\"}, \"type\": \"choropleth\"}], \"contour\": [{\"colorbar\": {\"outlinewidth\": 0, \"ticks\": \"\"}, \"colorscale\": [[0.0, \"#0d0887\"], [0.1111111111111111, \"#46039f\"], [0.2222222222222222, \"#7201a8\"], [0.3333333333333333, \"#9c179e\"], [0.4444444444444444, \"#bd3786\"], [0.5555555555555556, \"#d8576b\"], [0.6666666666666666, \"#ed7953\"], [0.7777777777777778, \"#fb9f3a\"], [0.8888888888888888, \"#fdca26\"], [1.0, \"#f0f921\"]], \"type\": \"contour\"}], \"contourcarpet\": [{\"colorbar\": {\"outlinewidth\": 0, \"ticks\": \"\"}, \"type\": \"contourcarpet\"}], \"heatmap\": [{\"colorbar\": {\"outlinewidth\": 0, \"ticks\": \"\"}, \"colorscale\": [[0.0, \"#0d0887\"], [0.1111111111111111, \"#46039f\"], [0.2222222222222222, \"#7201a8\"], [0.3333333333333333, \"#9c179e\"], [0.4444444444444444, \"#bd3786\"], [0.5555555555555556, \"#d8576b\"], [0.6666666666666666, \"#ed7953\"], [0.7777777777777778, \"#fb9f3a\"], [0.8888888888888888, \"#fdca26\"], [1.0, \"#f0f921\"]], \"type\": \"heatmap\"}], \"heatmapgl\": [{\"colorbar\": {\"outlinewidth\": 0, \"ticks\": \"\"}, \"colorscale\": [[0.0, \"#0d0887\"], [0.1111111111111111, \"#46039f\"], [0.2222222222222222, \"#7201a8\"], [0.3333333333333333, \"#9c179e\"], [0.4444444444444444, \"#bd3786\"], [0.5555555555555556, \"#d8576b\"], [0.6666666666666666, \"#ed7953\"], [0.7777777777777778, \"#fb9f3a\"], [0.8888888888888888, \"#fdca26\"], [1.0, \"#f0f921\"]], \"type\": \"heatmapgl\"}], \"histogram\": [{\"marker\": {\"colorbar\": {\"outlinewidth\": 0, \"ticks\": \"\"}}, \"type\": \"histogram\"}], \"histogram2d\": [{\"colorbar\": {\"outlinewidth\": 0, \"ticks\": \"\"}, \"colorscale\": [[0.0, \"#0d0887\"], [0.1111111111111111, \"#46039f\"], [0.2222222222222222, \"#7201a8\"], [0.3333333333333333, \"#9c179e\"], [0.4444444444444444, \"#bd3786\"], [0.5555555555555556, \"#d8576b\"], [0.6666666666666666, \"#ed7953\"], [0.7777777777777778, \"#fb9f3a\"], [0.8888888888888888, \"#fdca26\"], [1.0, \"#f0f921\"]], \"type\": \"histogram2d\"}], \"histogram2dcontour\": [{\"colorbar\": {\"outlinewidth\": 0, \"ticks\": \"\"}, \"colorscale\": [[0.0, \"#0d0887\"], [0.1111111111111111, \"#46039f\"], [0.2222222222222222, \"#7201a8\"], [0.3333333333333333, \"#9c179e\"], [0.4444444444444444, \"#bd3786\"], [0.5555555555555556, \"#d8576b\"], [0.6666666666666666, \"#ed7953\"], [0.7777777777777778, \"#fb9f3a\"], [0.8888888888888888, \"#fdca26\"], [1.0, \"#f0f921\"]], \"type\": \"histogram2dcontour\"}], \"mesh3d\": [{\"colorbar\": {\"outlinewidth\": 0, \"ticks\": \"\"}, \"type\": \"mesh3d\"}], \"parcoords\": [{\"line\": {\"colorbar\": {\"outlinewidth\": 0, \"ticks\": \"\"}}, \"type\": \"parcoords\"}], \"pie\": [{\"automargin\": true, \"type\": \"pie\"}], \"scatter\": [{\"marker\": {\"colorbar\": {\"outlinewidth\": 0, \"ticks\": \"\"}}, \"type\": \"scatter\"}], \"scatter3d\": [{\"line\": {\"colorbar\": {\"outlinewidth\": 0, \"ticks\": \"\"}}, \"marker\": {\"colorbar\": {\"outlinewidth\": 0, \"ticks\": \"\"}}, \"type\": \"scatter3d\"}], \"scattercarpet\": [{\"marker\": {\"colorbar\": {\"outlinewidth\": 0, \"ticks\": \"\"}}, \"type\": \"scattercarpet\"}], \"scattergeo\": [{\"marker\": {\"colorbar\": {\"outlinewidth\": 0, \"ticks\": \"\"}}, \"type\": \"scattergeo\"}], \"scattergl\": [{\"marker\": {\"colorbar\": {\"outlinewidth\": 0, \"ticks\": \"\"}}, \"type\": \"scattergl\"}], \"scattermapbox\": [{\"marker\": {\"colorbar\": {\"outlinewidth\": 0, \"ticks\": \"\"}}, \"type\": \"scattermapbox\"}], \"scatterpolar\": [{\"marker\": {\"colorbar\": {\"outlinewidth\": 0, \"ticks\": \"\"}}, \"type\": \"scatterpolar\"}], \"scatterpolargl\": [{\"marker\": {\"colorbar\": {\"outlinewidth\": 0, \"ticks\": \"\"}}, \"type\": \"scatterpolargl\"}], \"scatterternary\": [{\"marker\": {\"colorbar\": {\"outlinewidth\": 0, \"ticks\": \"\"}}, \"type\": \"scatterternary\"}], \"surface\": [{\"colorbar\": {\"outlinewidth\": 0, \"ticks\": \"\"}, \"colorscale\": [[0.0, \"#0d0887\"], [0.1111111111111111, \"#46039f\"], [0.2222222222222222, \"#7201a8\"], [0.3333333333333333, \"#9c179e\"], [0.4444444444444444, \"#bd3786\"], [0.5555555555555556, \"#d8576b\"], [0.6666666666666666, \"#ed7953\"], [0.7777777777777778, \"#fb9f3a\"], [0.8888888888888888, \"#fdca26\"], [1.0, \"#f0f921\"]], \"type\": \"surface\"}], \"table\": [{\"cells\": {\"fill\": {\"color\": \"#EBF0F8\"}, \"line\": {\"color\": \"white\"}}, \"header\": {\"fill\": {\"color\": \"#C8D4E3\"}, \"line\": {\"color\": \"white\"}}, \"type\": \"table\"}]}, \"layout\": {\"annotationdefaults\": {\"arrowcolor\": \"#2a3f5f\", \"arrowhead\": 0, \"arrowwidth\": 1}, \"coloraxis\": {\"colorbar\": {\"outlinewidth\": 0, \"ticks\": \"\"}}, \"colorscale\": {\"diverging\": [[0, \"#8e0152\"], [0.1, \"#c51b7d\"], [0.2, \"#de77ae\"], [0.3, \"#f1b6da\"], [0.4, \"#fde0ef\"], [0.5, \"#f7f7f7\"], [0.6, \"#e6f5d0\"], [0.7, \"#b8e186\"], [0.8, \"#7fbc41\"], [0.9, \"#4d9221\"], [1, \"#276419\"]], \"sequential\": [[0.0, \"#0d0887\"], [0.1111111111111111, \"#46039f\"], [0.2222222222222222, \"#7201a8\"], [0.3333333333333333, \"#9c179e\"], [0.4444444444444444, \"#bd3786\"], [0.5555555555555556, \"#d8576b\"], [0.6666666666666666, \"#ed7953\"], [0.7777777777777778, \"#fb9f3a\"], [0.8888888888888888, \"#fdca26\"], [1.0, \"#f0f921\"]], \"sequentialminus\": [[0.0, \"#0d0887\"], [0.1111111111111111, \"#46039f\"], [0.2222222222222222, \"#7201a8\"], [0.3333333333333333, \"#9c179e\"], [0.4444444444444444, \"#bd3786\"], [0.5555555555555556, \"#d8576b\"], [0.6666666666666666, \"#ed7953\"], [0.7777777777777778, \"#fb9f3a\"], [0.8888888888888888, \"#fdca26\"], [1.0, \"#f0f921\"]]}, \"colorway\": [\"#636efa\", \"#EF553B\", \"#00cc96\", \"#ab63fa\", \"#FFA15A\", \"#19d3f3\", \"#FF6692\", \"#B6E880\", \"#FF97FF\", \"#FECB52\"], \"font\": {\"color\": \"#2a3f5f\"}, \"geo\": {\"bgcolor\": \"white\", \"lakecolor\": \"white\", \"landcolor\": \"#E5ECF6\", \"showlakes\": true, \"showland\": true, \"subunitcolor\": \"white\"}, \"hoverlabel\": {\"align\": \"left\"}, \"hovermode\": \"closest\", \"mapbox\": {\"style\": \"light\"}, \"paper_bgcolor\": \"white\", \"plot_bgcolor\": \"#E5ECF6\", \"polar\": {\"angularaxis\": {\"gridcolor\": \"white\", \"linecolor\": \"white\", \"ticks\": \"\"}, \"bgcolor\": \"#E5ECF6\", \"radialaxis\": {\"gridcolor\": \"white\", \"linecolor\": \"white\", \"ticks\": \"\"}}, \"scene\": {\"xaxis\": {\"backgroundcolor\": \"#E5ECF6\", \"gridcolor\": \"white\", \"gridwidth\": 2, \"linecolor\": \"white\", \"showbackground\": true, \"ticks\": \"\", \"zerolinecolor\": \"white\"}, \"yaxis\": {\"backgroundcolor\": \"#E5ECF6\", \"gridcolor\": \"white\", \"gridwidth\": 2, \"linecolor\": \"white\", \"showbackground\": true, \"ticks\": \"\", \"zerolinecolor\": \"white\"}, \"zaxis\": {\"backgroundcolor\": \"#E5ECF6\", \"gridcolor\": \"white\", \"gridwidth\": 2, \"linecolor\": \"white\", \"showbackground\": true, \"ticks\": \"\", \"zerolinecolor\": \"white\"}}, \"shapedefaults\": {\"line\": {\"color\": \"#2a3f5f\"}}, \"ternary\": {\"aaxis\": {\"gridcolor\": \"white\", \"linecolor\": \"white\", \"ticks\": \"\"}, \"baxis\": {\"gridcolor\": \"white\", \"linecolor\": \"white\", \"ticks\": \"\"}, \"bgcolor\": \"#E5ECF6\", \"caxis\": {\"gridcolor\": \"white\", \"linecolor\": \"white\", \"ticks\": \"\"}}, \"title\": {\"x\": 0.05}, \"xaxis\": {\"automargin\": true, \"gridcolor\": \"white\", \"linecolor\": \"white\", \"ticks\": \"\", \"title\": {\"standoff\": 15}, \"zerolinecolor\": \"white\", \"zerolinewidth\": 2}, \"yaxis\": {\"automargin\": true, \"gridcolor\": \"white\", \"linecolor\": \"white\", \"ticks\": \"\", \"title\": {\"standoff\": 15}, \"zerolinecolor\": \"white\", \"zerolinewidth\": 2}}}},\n",
       "                        {\"responsive\": true}\n",
       "                    ).then(function(){\n",
       "                            \n",
       "var gd = document.getElementById('557b9a98-3a17-4a47-bbaa-ae8b5e315c6a');\n",
       "var x = new MutationObserver(function (mutations, observer) {{\n",
       "        var display = window.getComputedStyle(gd).display;\n",
       "        if (!display || display === 'none') {{\n",
       "            console.log([gd, 'removed!']);\n",
       "            Plotly.purge(gd);\n",
       "            observer.disconnect();\n",
       "        }}\n",
       "}});\n",
       "\n",
       "// Listen for the removal of the full notebook cells\n",
       "var notebookContainer = gd.closest('#notebook-container');\n",
       "if (notebookContainer) {{\n",
       "    x.observe(notebookContainer, {childList: true});\n",
       "}}\n",
       "\n",
       "// Listen for the clearing of the current output cell\n",
       "var outputEl = gd.closest('.output');\n",
       "if (outputEl) {{\n",
       "    x.observe(outputEl, {childList: true});\n",
       "}}\n",
       "\n",
       "                        })\n",
       "                };\n",
       "                });\n",
       "            </script>\n",
       "        </div>"
      ]
     },
     "metadata": {},
     "output_type": "display_data"
    }
   ],
   "source": [
    "fig = go.Figure()\n",
    "fig.add_trace(go.Scatter(x=plot_df.x, y=plot_df.y, mode='markers', text=plot_df.labels))\n",
    "fig.show()"
   ]
  },
  {
   "cell_type": "code",
   "execution_count": null,
   "metadata": {},
   "outputs": [],
   "source": []
  }
 ],
 "metadata": {
  "kernelspec": {
   "display_name": "Python 3.7.5 64-bit",
   "language": "python",
   "name": "python37564bit9e4073255a9e4e14bafa28b8aba51016"
  },
  "language_info": {
   "codemirror_mode": {
    "name": "ipython",
    "version": 3
   },
   "file_extension": ".py",
   "mimetype": "text/x-python",
   "name": "python",
   "nbconvert_exporter": "python",
   "pygments_lexer": "ipython3",
   "version": "3.7.5"
  }
 },
 "nbformat": 4,
 "nbformat_minor": 4
}
